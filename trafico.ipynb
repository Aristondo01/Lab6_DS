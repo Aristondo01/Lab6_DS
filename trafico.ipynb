{
 "cells": [
  {
   "cell_type": "markdown",
   "metadata": {},
   "source": [
    "# Laboratorio 6\n",
    "\n",
    "#### 20880 Sebastian Aristondo\n",
    "#### 20293 Daniel Gonzalez"
   ]
  },
  {
   "cell_type": "markdown",
   "metadata": {},
   "source": [
    "## 2. Carga de datos"
   ]
  },
  {
   "cell_type": "code",
   "execution_count": 35,
   "metadata": {},
   "outputs": [
    {
     "name": "stderr",
     "output_type": "stream",
     "text": [
      "[nltk_data] Downloading package stopwords to\n",
      "[nltk_data]     C:\\Users\\DELL\\AppData\\Roaming\\nltk_data...\n",
      "[nltk_data]   Package stopwords is already up-to-date!\n",
      "[nltk_data] Downloading package punkt to\n",
      "[nltk_data]     C:\\Users\\DELL\\AppData\\Roaming\\nltk_data...\n",
      "[nltk_data]   Package punkt is already up-to-date!\n",
      "[nltk_data] Downloading package wordnet to\n",
      "[nltk_data]     C:\\Users\\DELL\\AppData\\Roaming\\nltk_data...\n",
      "[nltk_data]   Package wordnet is already up-to-date!\n",
      "[nltk_data] Downloading package punkt to\n",
      "[nltk_data]     C:\\Users\\DELL\\AppData\\Roaming\\nltk_data...\n",
      "[nltk_data]   Package punkt is already up-to-date!\n"
     ]
    }
   ],
   "source": [
    "import numpy as np\n",
    "import matplotlib.pyplot as plt\n",
    "import pandas as pd\n",
    "import nltk\n",
    "import re\n",
    "from nltk.corpus import stopwords\n",
    "from nltk.tokenize import word_tokenize\n",
    "from nltk.stem import WordNetLemmatizer\n",
    "from collections import Counter\n",
    "from nltk.corpus import opinion_lexicon\n",
    "nltk.download('stopwords')\n",
    "nltk.download('punkt')\n",
    "nltk.download('wordnet')\n",
    "nltk.download('punkt')\n",
    "from nltk.collocations import BigramCollocationFinder\n",
    "from nltk.metrics import BigramAssocMeasures\n",
    "import datetime\n",
    "import torch\n",
    "from transformers import BertTokenizer, BertForSequenceClassification\n",
    "from transformers import pipeline"
   ]
  },
  {
   "cell_type": "code",
   "execution_count": 36,
   "metadata": {},
   "outputs": [
    {
     "data": {
      "text/html": [
       "<div>\n",
       "<style scoped>\n",
       "    .dataframe tbody tr th:only-of-type {\n",
       "        vertical-align: middle;\n",
       "    }\n",
       "\n",
       "    .dataframe tbody tr th {\n",
       "        vertical-align: top;\n",
       "    }\n",
       "\n",
       "    .dataframe thead th {\n",
       "        text-align: right;\n",
       "    }\n",
       "</style>\n",
       "<table border=\"1\" class=\"dataframe\">\n",
       "  <thead>\n",
       "    <tr style=\"text-align: right;\">\n",
       "      <th></th>\n",
       "      <th>number</th>\n",
       "      <th>id</th>\n",
       "      <th>id_str</th>\n",
       "      <th>url</th>\n",
       "      <th>date</th>\n",
       "      <th>user</th>\n",
       "      <th>lang</th>\n",
       "      <th>rawContent</th>\n",
       "      <th>replyCount</th>\n",
       "      <th>retweetCount</th>\n",
       "      <th>...</th>\n",
       "      <th>quotedTweet</th>\n",
       "      <th>place</th>\n",
       "      <th>coordinates</th>\n",
       "      <th>inReplyToTweetId</th>\n",
       "      <th>inReplyToUser</th>\n",
       "      <th>source</th>\n",
       "      <th>sourceUrl</th>\n",
       "      <th>sourceLabel</th>\n",
       "      <th>media</th>\n",
       "      <th>_type</th>\n",
       "    </tr>\n",
       "  </thead>\n",
       "  <tbody>\n",
       "    <tr>\n",
       "      <th>0</th>\n",
       "      <td>0</td>\n",
       "      <td>1701654244858679742</td>\n",
       "      <td>1701654244858679742</td>\n",
       "      <td>https://twitter.com/EmisorasUnidas/status/1701...</td>\n",
       "      <td>2023-09-12 17:49:21+00:00</td>\n",
       "      <td>{'id': 40256008, 'id_str': '40256008', 'url': ...</td>\n",
       "      <td>es</td>\n",
       "      <td>#AHORA Amílcar Montejo, director de Comunicaci...</td>\n",
       "      <td>1</td>\n",
       "      <td>2</td>\n",
       "      <td>...</td>\n",
       "      <td>{'id': 1701651855212691764, 'id_str': '1701651...</td>\n",
       "      <td>NaN</td>\n",
       "      <td>NaN</td>\n",
       "      <td>NaN</td>\n",
       "      <td>NaN</td>\n",
       "      <td>&lt;a href=\"https://twitter.com\" rel=\"nofollow\"&gt;T...</td>\n",
       "      <td>https://twitter.com</td>\n",
       "      <td>TweetDeck Web App</td>\n",
       "      <td>{'photos': [], 'videos': [], 'animated': []}</td>\n",
       "      <td>snscrape.modules.twitter.Tweet</td>\n",
       "    </tr>\n",
       "    <tr>\n",
       "      <th>1</th>\n",
       "      <td>1</td>\n",
       "      <td>1701651855212691764</td>\n",
       "      <td>1701651855212691764</td>\n",
       "      <td>https://twitter.com/amilcarmontejo/status/1701...</td>\n",
       "      <td>2023-09-12 17:39:52+00:00</td>\n",
       "      <td>{'id': 372126670, 'id_str': '372126670', 'url'...</td>\n",
       "      <td>es</td>\n",
       "      <td>CONDUCTORA QUE SE NEGÓ A MOVILIZAR VEHÍCULO ES...</td>\n",
       "      <td>149</td>\n",
       "      <td>78</td>\n",
       "      <td>...</td>\n",
       "      <td>NaN</td>\n",
       "      <td>NaN</td>\n",
       "      <td>NaN</td>\n",
       "      <td>NaN</td>\n",
       "      <td>NaN</td>\n",
       "      <td>&lt;a href=\"http://twitter.com/download/iphone\" r...</td>\n",
       "      <td>http://twitter.com/download/iphone</td>\n",
       "      <td>Twitter for iPhone</td>\n",
       "      <td>{'photos': [{'url': 'https://pbs.twimg.com/med...</td>\n",
       "      <td>snscrape.modules.twitter.Tweet</td>\n",
       "    </tr>\n",
       "    <tr>\n",
       "      <th>2</th>\n",
       "      <td>2</td>\n",
       "      <td>1701348453916311903</td>\n",
       "      <td>1701348453916311903</td>\n",
       "      <td>https://twitter.com/edgarduarteagui/status/170...</td>\n",
       "      <td>2023-09-11 21:34:15+00:00</td>\n",
       "      <td>{'id': 100815432, 'id_str': '100815432', 'url'...</td>\n",
       "      <td>es</td>\n",
       "      <td>Camión de arena volteado en el viaducto el pul...</td>\n",
       "      <td>2</td>\n",
       "      <td>1</td>\n",
       "      <td>...</td>\n",
       "      <td>NaN</td>\n",
       "      <td>NaN</td>\n",
       "      <td>NaN</td>\n",
       "      <td>NaN</td>\n",
       "      <td>NaN</td>\n",
       "      <td>&lt;a href=\"http://twitter.com/download/android\" ...</td>\n",
       "      <td>http://twitter.com/download/android</td>\n",
       "      <td>Twitter for Android</td>\n",
       "      <td>{'photos': [], 'videos': [], 'animated': []}</td>\n",
       "      <td>snscrape.modules.twitter.Tweet</td>\n",
       "    </tr>\n",
       "    <tr>\n",
       "      <th>3</th>\n",
       "      <td>3</td>\n",
       "      <td>1701995859229958189</td>\n",
       "      <td>1701995859229958189</td>\n",
       "      <td>https://twitter.com/DrDavidCabrera/status/1701...</td>\n",
       "      <td>2023-09-13 16:26:49+00:00</td>\n",
       "      <td>{'id': 743252657083650048, 'id_str': '74325265...</td>\n",
       "      <td>es</td>\n",
       "      <td>Paciente de 39 años, dolor lumbar de 1 año tra...</td>\n",
       "      <td>3</td>\n",
       "      <td>17</td>\n",
       "      <td>...</td>\n",
       "      <td>NaN</td>\n",
       "      <td>NaN</td>\n",
       "      <td>NaN</td>\n",
       "      <td>NaN</td>\n",
       "      <td>NaN</td>\n",
       "      <td>&lt;a href=\"https://help.twitter.com/en/using-twi...</td>\n",
       "      <td>https://help.twitter.com/en/using-twitter/how-...</td>\n",
       "      <td>advertiser-interface</td>\n",
       "      <td>{'photos': [{'url': 'https://pbs.twimg.com/med...</td>\n",
       "      <td>snscrape.modules.twitter.Tweet</td>\n",
       "    </tr>\n",
       "    <tr>\n",
       "      <th>4</th>\n",
       "      <td>4</td>\n",
       "      <td>1701216420997017888</td>\n",
       "      <td>1701216420997017888</td>\n",
       "      <td>https://twitter.com/EmisorasUnidas/status/1701...</td>\n",
       "      <td>2023-09-11 12:49:36+00:00</td>\n",
       "      <td>{'id': 40256008, 'id_str': '40256008', 'url': ...</td>\n",
       "      <td>es</td>\n",
       "      <td>#AHORA Amílcar Montejo, director de Comunicaci...</td>\n",
       "      <td>0</td>\n",
       "      <td>0</td>\n",
       "      <td>...</td>\n",
       "      <td>NaN</td>\n",
       "      <td>NaN</td>\n",
       "      <td>NaN</td>\n",
       "      <td>NaN</td>\n",
       "      <td>NaN</td>\n",
       "      <td>&lt;a href=\"https://twitter.com\" rel=\"nofollow\"&gt;T...</td>\n",
       "      <td>https://twitter.com</td>\n",
       "      <td>TweetDeck Web App</td>\n",
       "      <td>{'photos': [{'url': 'https://pbs.twimg.com/med...</td>\n",
       "      <td>snscrape.modules.twitter.Tweet</td>\n",
       "    </tr>\n",
       "  </tbody>\n",
       "</table>\n",
       "<p>5 rows × 29 columns</p>\n",
       "</div>"
      ],
      "text/plain": [
       "   number                   id               id_str  \\\n",
       "0       0  1701654244858679742  1701654244858679742   \n",
       "1       1  1701651855212691764  1701651855212691764   \n",
       "2       2  1701348453916311903  1701348453916311903   \n",
       "3       3  1701995859229958189  1701995859229958189   \n",
       "4       4  1701216420997017888  1701216420997017888   \n",
       "\n",
       "                                                 url  \\\n",
       "0  https://twitter.com/EmisorasUnidas/status/1701...   \n",
       "1  https://twitter.com/amilcarmontejo/status/1701...   \n",
       "2  https://twitter.com/edgarduarteagui/status/170...   \n",
       "3  https://twitter.com/DrDavidCabrera/status/1701...   \n",
       "4  https://twitter.com/EmisorasUnidas/status/1701...   \n",
       "\n",
       "                        date  \\\n",
       "0  2023-09-12 17:49:21+00:00   \n",
       "1  2023-09-12 17:39:52+00:00   \n",
       "2  2023-09-11 21:34:15+00:00   \n",
       "3  2023-09-13 16:26:49+00:00   \n",
       "4  2023-09-11 12:49:36+00:00   \n",
       "\n",
       "                                                user lang  \\\n",
       "0  {'id': 40256008, 'id_str': '40256008', 'url': ...   es   \n",
       "1  {'id': 372126670, 'id_str': '372126670', 'url'...   es   \n",
       "2  {'id': 100815432, 'id_str': '100815432', 'url'...   es   \n",
       "3  {'id': 743252657083650048, 'id_str': '74325265...   es   \n",
       "4  {'id': 40256008, 'id_str': '40256008', 'url': ...   es   \n",
       "\n",
       "                                          rawContent  replyCount  \\\n",
       "0  #AHORA Amílcar Montejo, director de Comunicaci...           1   \n",
       "1  CONDUCTORA QUE SE NEGÓ A MOVILIZAR VEHÍCULO ES...         149   \n",
       "2  Camión de arena volteado en el viaducto el pul...           2   \n",
       "3  Paciente de 39 años, dolor lumbar de 1 año tra...           3   \n",
       "4  #AHORA Amílcar Montejo, director de Comunicaci...           0   \n",
       "\n",
       "   retweetCount  ...                                        quotedTweet  \\\n",
       "0             2  ...  {'id': 1701651855212691764, 'id_str': '1701651...   \n",
       "1            78  ...                                                NaN   \n",
       "2             1  ...                                                NaN   \n",
       "3            17  ...                                                NaN   \n",
       "4             0  ...                                                NaN   \n",
       "\n",
       "   place  coordinates inReplyToTweetId inReplyToUser  \\\n",
       "0    NaN          NaN              NaN           NaN   \n",
       "1    NaN          NaN              NaN           NaN   \n",
       "2    NaN          NaN              NaN           NaN   \n",
       "3    NaN          NaN              NaN           NaN   \n",
       "4    NaN          NaN              NaN           NaN   \n",
       "\n",
       "                                              source  \\\n",
       "0  <a href=\"https://twitter.com\" rel=\"nofollow\">T...   \n",
       "1  <a href=\"http://twitter.com/download/iphone\" r...   \n",
       "2  <a href=\"http://twitter.com/download/android\" ...   \n",
       "3  <a href=\"https://help.twitter.com/en/using-twi...   \n",
       "4  <a href=\"https://twitter.com\" rel=\"nofollow\">T...   \n",
       "\n",
       "                                           sourceUrl           sourceLabel  \\\n",
       "0                                https://twitter.com     TweetDeck Web App   \n",
       "1                 http://twitter.com/download/iphone    Twitter for iPhone   \n",
       "2                http://twitter.com/download/android   Twitter for Android   \n",
       "3  https://help.twitter.com/en/using-twitter/how-...  advertiser-interface   \n",
       "4                                https://twitter.com     TweetDeck Web App   \n",
       "\n",
       "                                               media  \\\n",
       "0       {'photos': [], 'videos': [], 'animated': []}   \n",
       "1  {'photos': [{'url': 'https://pbs.twimg.com/med...   \n",
       "2       {'photos': [], 'videos': [], 'animated': []}   \n",
       "3  {'photos': [{'url': 'https://pbs.twimg.com/med...   \n",
       "4  {'photos': [{'url': 'https://pbs.twimg.com/med...   \n",
       "\n",
       "                            _type  \n",
       "0  snscrape.modules.twitter.Tweet  \n",
       "1  snscrape.modules.twitter.Tweet  \n",
       "2  snscrape.modules.twitter.Tweet  \n",
       "3  snscrape.modules.twitter.Tweet  \n",
       "4  snscrape.modules.twitter.Tweet  \n",
       "\n",
       "[5 rows x 29 columns]"
      ]
     },
     "execution_count": 36,
     "metadata": {},
     "output_type": "execute_result"
    }
   ],
   "source": [
    "data = pd.read_csv('traficogt.csv', sep=',')\n",
    "data.head()"
   ]
  },
  {
   "cell_type": "markdown",
   "metadata": {},
   "source": [
    "## 3. Limpieza y preprocesamiento de datos"
   ]
  },
  {
   "cell_type": "markdown",
   "metadata": {},
   "source": [
    "El dataset tiene los datos crudos, por lo que debemos de limpiarlos y preprocesarlos para poder trabajar con ellos. Para esto, se utilizo la libreria pandas para poder leer el archivo csv y poder trabajar con el. Luego utilizaremos varias funciones de nltk para poder limpiar los datos y dejarlos listos para poder trabajar con ellos."
   ]
  },
  {
   "cell_type": "code",
   "execution_count": 37,
   "metadata": {},
   "outputs": [],
   "source": [
    "def remove_urls(rawContent):\n",
    "    url_pattern = re.compile(r'http[s]?://(?:[a-zA-Z]|[0-9]|[$-_@.&+]|[!*\\\\(\\\\),]|(?:%[0-9a-fA-F][0-9a-fA-F]))+')\n",
    "    return re.sub(url_pattern, '', rawContent)"
   ]
  },
  {
   "cell_type": "markdown",
   "metadata": {},
   "source": [
    "Se realizaron tres acciones iniciales para limpiar y preprocesar datos. Primero se eliminó cualquier URL de los datos usando una expresión regular. También se mantuvieron solamente los caracteres que estuvieran de la a a la z, mayúsculas o minúsculas. Esto quiere decir que se quitó cualquier caracter como \"#\" o \"@\" y signos de puntuación. Por otra parte, se pasaron todas las palabras a minúsculas."
   ]
  },
  {
   "cell_type": "code",
   "execution_count": 38,
   "metadata": {},
   "outputs": [],
   "source": [
    "def remove_tildes(rawContent):\n",
    "    rawContent = rawContent.replace('á', 'a')\n",
    "    rawContent = rawContent.replace('é', 'e')\n",
    "    rawContent = rawContent.replace('í', 'i')\n",
    "    rawContent = rawContent.replace('ó', 'o')\n",
    "    rawContent = rawContent.replace('ú', 'u')\n",
    "    return rawContent"
   ]
  },
  {
   "cell_type": "code",
   "execution_count": 39,
   "metadata": {},
   "outputs": [],
   "source": [
    "data['rawContent'] = data['rawContent'].apply(remove_urls)\n",
    "data['rawContent'] = data['rawContent'].apply(lambda x: x.lower())\n",
    "data['rawContent'] = data['rawContent'].apply(remove_tildes)"
   ]
  },
  {
   "cell_type": "code",
   "execution_count": 40,
   "metadata": {},
   "outputs": [],
   "source": [
    "data['rawContent'] = data['rawContent'].str.replace('[^a-zA-Z0-9]', ' ', regex=True)"
   ]
  },
  {
   "cell_type": "markdown",
   "metadata": {},
   "source": [
    "Se removieron URLS y se quitaron caracteres especiales. También se pasaron todos los tweets a minúsculas y se removieron las tildes, para poder tener una forma estandarizada de los símbolos de los tweets en el dataset."
   ]
  },
  {
   "cell_type": "code",
   "execution_count": 41,
   "metadata": {},
   "outputs": [],
   "source": [
    "def remove_stop_words(sentence):\n",
    "    stop_words = set(stopwords.words('spanish'))  \n",
    "    words = sentence.split()\n",
    "    filtered_words = [word for word in words if word.lower() not in stop_words]\n",
    "    new_sentence = ' '.join(filtered_words)\n",
    "    return new_sentence\n",
    "\n",
    "data['rawContent_clean'] = data['rawContent'].apply(remove_stop_words)"
   ]
  },
  {
   "cell_type": "markdown",
   "metadata": {},
   "source": [
    "Se eliminaron las stop words en español que pudiera tener el dataset."
   ]
  },
  {
   "cell_type": "code",
   "execution_count": 42,
   "metadata": {},
   "outputs": [
    {
     "data": {
      "text/plain": [
       "0    ahora amilcar montejo director comunicacion em...\n",
       "1    conductora nego movilizar vehiculo multada cal...\n",
       "2    camion arena volteado viaducto pulte hacia hac...\n",
       "3    paciente 39 dolor lumbar 1 tras caida hizo 45 ...\n",
       "4    ahora amilcar montejo director comunicacion em...\n",
       "Name: rawContent_clean, dtype: object"
      ]
     },
     "execution_count": 42,
     "metadata": {},
     "output_type": "execute_result"
    }
   ],
   "source": [
    "data['rawContent_clean'].head()"
   ]
  },
  {
   "cell_type": "code",
   "execution_count": 43,
   "metadata": {},
   "outputs": [],
   "source": [
    "data = data.drop(\"number\", axis=1)   "
   ]
  },
  {
   "cell_type": "markdown",
   "metadata": {},
   "source": [
    "## 4. Análisis exploratorio"
   ]
  },
  {
   "cell_type": "code",
   "execution_count": 44,
   "metadata": {},
   "outputs": [
    {
     "data": {
      "text/plain": [
       "(12631, 29)"
      ]
     },
     "execution_count": 44,
     "metadata": {},
     "output_type": "execute_result"
    }
   ],
   "source": [
    "data.shape"
   ]
  },
  {
   "cell_type": "code",
   "execution_count": 45,
   "metadata": {},
   "outputs": [
    {
     "data": {
      "text/plain": [
       "Index(['id', 'id_str', 'url', 'date', 'user', 'lang', 'rawContent',\n",
       "       'replyCount', 'retweetCount', 'likeCount', 'quoteCount',\n",
       "       'conversationId', 'hashtags', 'cashtags', 'mentionedUsers', 'links',\n",
       "       'viewCount', 'retweetedTweet', 'quotedTweet', 'place', 'coordinates',\n",
       "       'inReplyToTweetId', 'inReplyToUser', 'source', 'sourceUrl',\n",
       "       'sourceLabel', 'media', '_type', 'rawContent_clean'],\n",
       "      dtype='object')"
      ]
     },
     "execution_count": 45,
     "metadata": {},
     "output_type": "execute_result"
    }
   ],
   "source": [
    "data.columns"
   ]
  },
  {
   "cell_type": "code",
   "execution_count": 46,
   "metadata": {},
   "outputs": [
    {
     "name": "stdout",
     "output_type": "stream",
     "text": [
      "Porcentaje de tweets sin coordenadas:  99.98416594093896\n",
      "Cantidad de tweets con coordenadas:  2\n"
     ]
    }
   ],
   "source": [
    "nas_coordenadas = data['coordinates'].isna().sum()\n",
    "print('Porcentaje de tweets sin coordenadas: ', nas_coordenadas/data.shape[0]*100)\n",
    "\n",
    "print(\"Cantidad de tweets con coordenadas: \", data.shape[0] - nas_coordenadas)\n"
   ]
  },
  {
   "cell_type": "markdown",
   "metadata": {},
   "source": [
    "Como se puede observar, casi todos los tweets no tienen coordenadas, por lo tanto, no es posible realizar un análisis de tweets por ubicación para determinar que áreas tienen más tráfico."
   ]
  },
  {
   "cell_type": "code",
   "execution_count": 47,
   "metadata": {},
   "outputs": [],
   "source": [
    "coincidencias = []\n",
    "\n",
    "# Utilizar expresiones regulares para encontrar coincidencias de \"zona\" seguida de un número\n",
    "pattern = r'\\bzona\\s+(\\d+)\\b'  # \\b asegura que \"zona\" sea una palabra completa, \\s+ coincide con uno o más espacios, \\d+ coincide con uno o más dígitos\n",
    "\n",
    "# Buscar coincidencias en la columna 'texto' y almacenarlas en la lista\n",
    "for texto in data['rawContent_clean']:\n",
    "    matches = re.findall(pattern, texto)\n",
    "    coincidencias.extend(matches)"
   ]
  },
  {
   "cell_type": "code",
   "execution_count": 48,
   "metadata": {},
   "outputs": [
    {
     "data": {
      "image/png": "[encoded data removed]",
      "text/plain": [
       "<Figure size 640x480 with 1 Axes>"
      ]
     },
     "metadata": {},
     "output_type": "display_data"
    }
   ],
   "source": [
    "# Contar la frecuencia de cada número\n",
    "conteo_coincidencias = Counter(coincidencias)\n",
    "\n",
    "# Obtener las etiquetas (números) y sus frecuencias\n",
    "etiquetas = list(conteo_coincidencias.keys())\n",
    "frecuencias = list(conteo_coincidencias.values())\n",
    "\n",
    "# Crear el gráfico de barras\n",
    "plt.bar(etiquetas, frecuencias)\n",
    "\n",
    "# Agregar etiquetas y título\n",
    "plt.xlabel('Número')\n",
    "plt.ylabel('Frecuencia')\n",
    "plt.title('Frecuencia de coincidencias por número')\n",
    "\n",
    "# Mostrar el gráfico\n",
    "plt.show()"
   ]
  },
  {
   "cell_type": "markdown",
   "metadata": {},
   "source": [
    "Se puede observar que de los tweets relacionados al tráfico, la mayor cantidad vienen de zona 1, zona 10, zona 11 y zona 18. "
   ]
  },
  {
   "cell_type": "code",
   "execution_count": 49,
   "metadata": {},
   "outputs": [
    {
     "name": "stdout",
     "output_type": "stream",
     "text": [
      "Cantidad de usuarios unicos en el dataset:  4789\n"
     ]
    }
   ],
   "source": [
    "usuarios = data['user'].unique()\n",
    "print('Cantidad de usuarios unicos en el dataset: ', len(usuarios))"
   ]
  },
  {
   "cell_type": "code",
   "execution_count": 50,
   "metadata": {},
   "outputs": [],
   "source": [
    "def extraer_valor(diccionario):\n",
    "    diccionario = eval(diccionario)\n",
    "    return diccionario[\"username\"]\n",
    "\n",
    "\n",
    "data[\"username\"]=data[\"user\"].apply(extraer_valor)\n",
    "\n"
   ]
  },
  {
   "cell_type": "code",
   "execution_count": 83,
   "metadata": {},
   "outputs": [
    {
     "data": {
      "image/png": "[encoded data removed]",
      "text/plain": [
       "<Figure size 1000x600 with 1 Axes>"
      ]
     },
     "metadata": {},
     "output_type": "display_data"
    }
   ],
   "source": [
    "tweets_mas_rt = data.groupby('username')['retweetCount'].sum()\n",
    "tr_count_df = tweets_mas_rt.reset_index()\n",
    "tr_count_df = tr_count_df.rename(columns={'retweetCount': 'count'})\n",
    "tr_count_df = tr_count_df.sort_values(by='count', ascending=False)\n",
    "tr_count_df = tr_count_df.head(10)\n",
    "\n",
    "plt.figure(figsize=(10, 6))  # Tamaño del gráfico\n",
    "plt.bar(tr_count_df['username'], tr_count_df['count'])\n",
    "plt.xlabel('Usuario')\n",
    "plt.ylabel('Conteo de Retweets')\n",
    "plt.title('Conteo de Retweets por Usuario')\n",
    "plt.xticks(rotation=90)  # Rotar las etiquetas del eje x para una mejor visualización\n",
    "plt.show()\n"
   ]
  },
  {
   "cell_type": "markdown",
   "metadata": {},
   "source": [
    "Como podemos ver el usuario Imaugustin pareciera ser un usuario muy activo en twitter en cuanto a tweets relacionados al tráfico. Mucha gente comparte la información que el publico. Este hallazgo es interesante ya que asumimos que el mayor referente sobre este rubro sería prensa libre, amilcar montejo o algún otro medio de comunicación."
   ]
  },
  {
   "cell_type": "code",
   "execution_count": null,
   "metadata": {},
   "outputs": [],
   "source": [
    "tweets_mas_rt = data.groupby('username')['retweetCount'].sum()\n",
    "tr_count_df = tweets_mas_rt.reset_index()\n",
    "tr_count_df = tr_count_df.rename(columns={'retweetCount': 'count'})\n",
    "tr_count_df = tr_count_df.sort_values(by='count', ascending=False)\n",
    "tr_count_df = tr_count_df.head(10)\n",
    "\n",
    "plt.figure(figsize=(10, 6))  # Tamaño del gráfico\n",
    "plt.bar(tr_count_df['username'], tr_count_df['count'])\n",
    "plt.xlabel('Usuario')\n",
    "plt.ylabel('Conteo de Retweets')\n",
    "plt.title('Conteo de Retweets por Usuario')\n",
    "plt.xticks(rotation=90)  # Rotar las etiquetas del eje x para una mejor visualización\n",
    "plt.show()"
   ]
  },
  {
   "cell_type": "code",
   "execution_count": null,
   "metadata": {},
   "outputs": [],
   "source": [
    "# Cargar el modelo pre-entrenado de BERT para análisis de sentimiento\n",
    "model_name = 'nlptown/bert-base-multilingual-uncased-sentiment'\n",
    "model = BertForSequenceClassification.from_pretrained(model_name)\n",
    "tokenizer = BertTokenizer.from_pretrained(model_name)\n",
    "\n",
    "# Crear una función para realizar análisis de sentimiento\n",
    "def analyze_sentiment(text):\n",
    "    # Tokenizar el texto y obtener la salida del modelo\n",
    "    inputs = tokenizer(text, return_tensors='pt')\n",
    "    outputs = model(**inputs)\n",
    "\n",
    "    # Obtener la predicción de sentimiento\n",
    "    prediction = torch.argmax(outputs.logits, dim=1).item()\n",
    "    \n",
    "    # Definir la escala de sentimiento\n",
    "    sentiment_scale = {\n",
    "        0: 'Muy negativo',\n",
    "        1: 'Negativo',\n",
    "        2: 'Neutral',\n",
    "        3: 'Positivo',\n",
    "        4: 'Muy positivo'\n",
    "    }\n",
    "    \n",
    "    # Obtener la etiqueta de sentimiento\n",
    "    sentiment_label = sentiment_scale[prediction]\n",
    "    \n",
    "    return sentiment_label\n"
   ]
  }
 ],
 "metadata": {
  "kernelspec": {
   "display_name": "myenv",
   "language": "python",
   "name": "python3"
  },
  "language_info": {
   "codemirror_mode": {
    "name": "ipython",
    "version": 3
   },
   "file_extension": ".py",
   "mimetype": "text/x-python",
   "name": "python",
   "nbconvert_exporter": "python",
   "pygments_lexer": "ipython3",
   "version": "3.11.5"
  },
  "orig_nbformat": 4
 },
 "nbformat": 4,
 "nbformat_minor": 2
}
